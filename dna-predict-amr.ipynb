{
 "cells": [
  {
   "cell_type": "markdown",
   "metadata": {},
   "source": [
    "# DNA-based Antimicrobial Resistance Prediction\n",
    "\n",
    "This notebook implements an AI-based system for predicting antimicrobial resistance from DNA sequences."
   ]
  },
  {
   "cell_type": "markdown",
   "metadata": {},
   "source": [
    "## Setup\n",
    "Install required packages and import dependencies"
   ]
  },
  {
   "cell_type": "code",
   "execution_count": null,
   "metadata": {},
   "outputs": [],
   "source": [
    "!pip install biopython sklearn pandas numpy\n",
    "\n",
    "import pandas as pd\n",
    "import numpy as np\n",
    "from Bio import SeqIO\n",
    "from sklearn.model_selection import train_test_split\n",
    "from sklearn.preprocessing import StandardScaler"
   ]
  },
  {
   "cell_type": "markdown",
   "metadata": {},
   "source": [
    "## Installation Methods\n",
    "\n",
    "Choose one of the following methods to set up the environment:"
   ]
  },
  {
   "cell_type": "markdown",
   "metadata": {},
   "source": [
    "### Method 1: Clone GitHub Repository"
   ]
  },
  {
   "cell_type": "code",
   "execution_count": null,
   "metadata": {},
   "outputs": [],
   "source": [
    "!git clone https://github.com/tmone/amr-system.git\n",
    "%cd amr-system\n",
    "!pip install -r python-app/requirements.txt"
   ]
  },
  {
   "cell_type": "markdown",
   "metadata": {},
   "source": [
    "### Method 2: Direct Package Installation"
   ]
  },
  {
   "cell_type": "code",
   "execution_count": null,
   "metadata": {},
   "outputs": [],
   "source": [
    "!pip install flask==2.0.1 flask-cors==4.0.0 Jinja2==3.1.2 Werkzeug==2.3.7 \\\n",
    "    pytest==6.2.5 python-dotenv==0.19.0 tensorflow numpy scikit-learn \\\n",
    "    flask-socketio==5.3.6 python-engineio==4.11.0 python-socketio==5.12.1 \\\n",
    "    biopython pandas"
   ]
  },
  {
   "cell_type": "markdown",
   "metadata": {},
   "source": [
    "## Verify Installation"
   ]
  },
  {
   "cell_type": "code",
   "execution_count": null,
   "metadata": {},
   "outputs": [],
   "source": [
    "import tensorflow as tf\n",
    "import numpy as np\n",
    "import pandas as pd\n",
    "from Bio import SeqIO\n",
    "from sklearn.model_selection import train_test_split\n",
    "from sklearn.preprocessing import StandardScaler\n",
    "\n",
    "print(f\"TensorFlow version: {tf.__version__}\")\n",
    "print(f\"NumPy version: {np.__version__}\")\n",
    "print(f\"Pandas version: {pd.__version__}\")"
   ]
  },
  {
   "cell_type": "markdown",
   "metadata": {},
   "source": [
    "## Data Loading and Preprocessing"
   ]
  },
  {
   "cell_type": "code",
   "execution_count": null,
   "metadata": {},
   "outputs": [],
   "source": [
    "# Code for loading DNA sequences and AMR data\n",
    "# Feature extraction from sequences\n",
    "# Data preprocessing steps"
   ]
  },
  {
   "cell_type": "markdown",
   "metadata": {},
   "source": [
    "## Model Development"
   ]
  },
  {
   "cell_type": "code",
   "execution_count": null,
   "metadata": {},
   "outputs": [],
   "source": [
    "# Model architecture and training code\n",
    "# Evaluation metrics"
   ]
  },
  {
   "cell_type": "markdown",
   "metadata": {},
   "source": [
    "## Set Up Cloudflared Tunnel\n",
    "\n",
    "Using Cloudflare Tunnel to expose Flask application"
   ]
  },
  {
   "cell_type": "code",
   "execution_count": null,
   "metadata": {},
   "outputs": [],
   "source": [
    "# Install cloudflared\n",
    "!wget -q https://github.com/cloudflare/cloudflared/releases/latest/download/cloudflared-linux-amd64.deb\n",
    "!dpkg -i cloudflared-linux-amd64.deb\n",
    "!rm cloudflared-linux-amd64.deb"
   ]
  },
  {
   "cell_type": "code",
   "execution_count": null,
   "metadata": {},
   "outputs": [],
   "source": [
    "import subprocess\n",
    "from threading import Thread\n",
    "\n",
    "def run_cloudflared(port):\n",
    "    \"\"\"Run cloudflared tunnel\"\"\"\n",
    "    process = subprocess.Popen(\n",
    "        ['cloudflared', 'tunnel', '--url', f'http://localhost:{port}'],\n",
    "        stdout=subprocess.PIPE,\n",
    "        stderr=subprocess.STDOUT,\n",
    "        universal_newlines=True\n",
    "    )\n",
    "    \n",
    "    for line in process.stdout:\n",
    "        if 'trycloudflare.com' in line:\n",
    "            print(f\"Cloudflare URL: {line.strip()}\")\n",
    "        elif '127.0.0.1' not in line:\n",
    "            print(line.strip())"
   ]
  },
  {
   "cell_type": "code",
   "execution_count": null,
   "metadata": {},
   "outputs": [],
   "source": [
    "# Import and run Flask app\n",
    "import sys\n",
    "sys.path.append('./python-app')\n",
    "\n",
    "from app import create_app\n",
    "from threading import Thread\n",
    "import webbrowser\n",
    "\n",
    "def run_flask():\n",
    "    app, socketio = create_app()\n",
    "    socketio.run(app, host='0.0.0.0', port=5000)\n",
    "\n",
    "# Create the app instance\n",
    "app, socketio = create_app()\n",
    "\n",
    "if not IN_COLAB:\n",
    "    # Start cloudflared in background\n",
    "    tunnel_thread = Thread(target=run_cloudflared, args=(5000,), daemon=True)\n",
    "    tunnel_thread.start()\n",
    "\n",
    "    # Start Flask in a separate thread\n",
    "    flask_thread = Thread(target=run_flask, daemon=True)\n",
    "    flask_thread.start()\n",
    "\n",
    "    # Keep the notebook running\n",
    "    print(\"Server is running... Use the Cloudflare URL above to access the application\")\n",
    "    print(\"To stop the server, interrupt the kernel (stop button)\")"
   ]
  },
  {
   "cell_type": "markdown",
   "metadata": {},
   "source": [
    "### Alternative: Test Flask Routes Directly"
   ]
  },
  {
   "cell_type": "code",
   "execution_count": null,
   "metadata": {},
   "outputs": [],
   "source": [
    "# Test Flask routes without running server\n",
    "with app.test_client() as client:\n",
    "    response = client.get('/')\n",
    "    print(f\"Status Code: {response.status_code}\")\n",
    "    print(f\"Response: {response.data.decode()}\")"
   ]
  },
  {
   "cell_type": "code",
   "execution_count": null,
   "metadata": {},
   "outputs": [],
   "source": [
    "# Detect environment\n",
    "def is_colab():\n",
    "    try:\n",
    "        import google.colab\n",
    "        return True\n",
    "    except:\n",
    "        return False\n",
    "\n",
    "IN_COLAB = is_colab()"
   ]
  },
  {
   "cell_type": "code",
   "execution_count": null,
   "metadata": {},
   "outputs": [],
   "source": [
    "if IN_COLAB:\n",
    "    # Direct model interaction for Colab\n",
    "    from model import AMRModel\n",
    "    \n",
    "    model = AMRModel()\n",
    "    \n",
    "    def predict_sequence(sequence):\n",
    "        \"\"\"Direct prediction function for Colab\"\"\"\n",
    "        sequence = sequence.upper()\n",
    "        if not all(c in 'ATGC' for c in sequence):\n",
    "            raise ValueError('Invalid sequence. Only A, T, G, C allowed')\n",
    "        \n",
    "        prediction = model.predict_sequence(sequence)\n",
    "        return {\n",
    "            'prediction': int(prediction['class']),\n",
    "            'confidence': float(prediction['confidence'])\n",
    "        }\n",
    "    \n",
    "    # Example usage in Colab\n",
    "    test_sequence = \"ATGCATGCATGC\"\n",
    "    result = predict_sequence(test_sequence)\n",
    "    print(f\"Prediction: {'Resistant' if result['prediction'] == 1 else 'Sensitive'}\")\n",
    "    print(f\"Confidence: {result['confidence']:.2f}%\")\n",
    "\n",
    "else:\n",
    "    // ...existing code...\n",
    "\n",
    "    if IN_COLAB:\n",
    "    # Direct model interaction for Colab with training\n",
    "    from model import AMRModel\n",
    "    import os\n",
    "    \n",
    "    // ...existing code...\n",
    "\n",
    "    # CLI-style commands for Colab environment\n",
    "    import sys\n",
    "    sys.path.append('./python-app')\n",
    "\n",
    "    from model import AMRModel\n",
    "    import argparse\n",
    "    from pathlib import Path\n",
    "\n",
    "    class AMRPredictor:\n",
    "        def __init__(self):\n",
    "            self.model = AMRModel()\n",
    "            \n",
    "        def train(self, input_file=None, epochs=10):\n",
    "            \"\"\"Train model with sample or provided data\"\"\"\n",
    "            if input_file:\n",
    "                // ...existing code...\n",
    "            else:\n",
    "                // ...existing code...\n",
    "                \n",
    "            print(f\"Training model with {'sample' if not input_file else 'provided'} data...\")\n",
    "            history = self.model.train(sequences, labels, epochs=epochs)\n",
    "            print(\"Training completed!\")\n",
    "            return history\n",
    "            raise ValueError('Invalid sequence. Only A, T, G, C allowed')\n",
    "        \n",
    "            \"\"\"Predict AMR for a sequence\"\"\"\n",
    "            if not self.model.model:\n",
    "                print(\"Model not trained. Training with sample data first...\")\n",
    "                self.train()\n",
    "                \n",
    "            result = self.model.predict_sequence(sequence)\n",
    "            return result\n",
    "        \n",
    "        def load_training_data(self, filepath):\n",
    "            \"\"\"Load sequences and labels from file\"\"\"\n",
    "            sequences = []\n",
    "            labels = []\n",
    "            with open(filepath) as f:\n",
    "                for line in f:\n",
    "                    if line.startswith('>'):\n",
    "                        label = int(line.strip().split()[-1])\n",
    "                        labels.append(label)\n",
    "                    else:\n",
    "                        sequences.append(line.strip())\n",
    "            return sequences, labels\n",
    "\n",
    "    // ...existing code...\n",
    "\n",
    "    # Create command parser\n",
    "    def parse_command(cmd):\n",
    "        \"\"\"Parse command string into arguments\"\"\"\n",
    "        parts = cmd.strip().split()\n",
    "        if not parts:\n",
    "            return None, {}\n",
    "            \n",
    "        command = parts[0]\n",
    "        args = {}\n",
    "        \n",
    "        if len(parts) > 1:\n",
    "            i = 1\n",
    "            while i < len(parts):\n",
    "                if parts[i].startswith('--'):\n",
    "                    key = parts[i][2:]\n",
    "                    if i + 1 < len(parts) and not parts[i+1].startswith('--'):\n",
    "                        args[key] = parts[i+1]\n",
    "                        i += 2\n",
    "                    else:\n",
    "                        args[key] = True\n",
    "                        i += 1\n",
    "                else:\n",
    "                    args['input'] = parts[i]\n",
    "                    i += 1\n",
    "                    \n",
    "        return command, args\n",
    "\n",
    "    // ...existing code...\n",
    "\n",
    "    # Create predictor instance\n",
    "    predictor = AMRPredictor()\n",
    "\n",
    "    def run_command(cmd):\n",
    "        \"\"\"Execute AMR command\"\"\"\n",
    "        command, args = parse_command(cmd)\n",
    "        \n",
    "        if command == 'train':\n",
    "            epochs = int(args.get('epochs', 10))\n",
    "            input_file = args.get('input')\n",
    "            history = predictor.train(input_file, epochs)\n",
    "            print(f\"Training metrics: Loss={history['loss'][-1]:.4f}, Accuracy={history['accuracy'][-1]:.4f}\")\n",
    "            \n",
    "        elif command == 'predict':\n",
    "            sequence = args.get('input')\n",
    "            if not sequence:\n",
    "                print(\"Error: No sequence provided\")\n",
    "                return\n",
    "                \n",
    "            result = predictor.predict(sequence)\n",
    "            print(f\"Prediction: {'Resistant' if result['class'] == 1 else 'Sensitive'}\")\n",
    "            print(f\"Confidence: {result['confidence']:.2f}%\")\n",
    "            \n",
    "        elif command == 'help':\n",
    "            print(\"\"\"\n",
    "            Commands:\n",
    "            train [--input filename] [--epochs N]  Train model with optional input file\n",
    "            predict <sequence>                     Predict AMR for DNA sequence\n",
    "            help                                  Show this help message\n",
    "            \"\"\")\n",
    "            \n",
    "        else:\n",
    "            print(\"Unknown command. Type 'help' for usage information.\")\n",
    "\n",
    "    // ...existing code...\n",
    "\n",
    "    # Example usage\n",
    "    print(\"AMR Prediction Tool Ready!\")\n",
    "    print(\"Type 'help' for available commands\")\n",
    "\n",
    "    // ...existing code...\n",
    "\n",
    "    # Enable interactive command input\n",
    "    from IPython.core.magic import register_line_magic\n",
    "\n",
    "    @register_line_magic\n",
    "    def amr(line):\n",
    "        run_command(line)\n",
    "\n",
    "    // ...existing code...\n",
    "\n",
    "    # Example commands:\n",
    "    # %amr train --epochs 5\n",
    "    # %amr predict ATGCATGCATGC\n",
    "    # %amr help"
   ]
  }
 ],
 "metadata": {
  "language_info": {
   "name": "python"
  }
 },
 "nbformat": 4,
 "nbformat_minor": 2
}
