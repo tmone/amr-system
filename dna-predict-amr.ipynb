{
 "cells": [
  {
   "cell_type": "markdown",
   "metadata": {},
   "source": [
    "# DNA-based Antimicrobial Resistance Prediction\n",
    "\n",
    "This notebook implements an AI-based system for predicting antimicrobial resistance from DNA sequences."
   ]
  },
  {
   "cell_type": "markdown",
   "metadata": {},
   "source": [
    "## Setup\n",
    "Install required packages and import dependencies"
   ]
  },
  {
   "cell_type": "code",
   "execution_count": null,
   "metadata": {},
   "outputs": [],
   "source": [
    "!pip install biopython sklearn pandas numpy\n",
    "\n",
    "import pandas as pd\n",
    "import numpy as np\n",
    "from Bio import SeqIO\n",
    "from sklearn.model_selection import train_test_split\n",
    "from sklearn.preprocessing import StandardScaler"
   ]
  },
  {
   "cell_type": "markdown",
   "metadata": {},
   "source": [
    "## Installation Methods\n",
    "\n",
    "Choose one of the following methods to set up the environment:"
   ]
  },
  {
   "cell_type": "markdown",
   "metadata": {},
   "source": [
    "### Method 1: Clone GitHub Repository"
   ]
  },
  {
   "cell_type": "code",
   "execution_count": null,
   "metadata": {},
   "outputs": [],
   "source": [
    "!git clone https://github.com/tmone/amr-system.git\n",
    "%cd amr-system\n",
    "!pip install -r python-app/requirements.txt"
   ]
  },
  {
   "cell_type": "markdown",
   "metadata": {},
   "source": [
    "### Method 2: Direct Package Installation"
   ]
  },
  {
   "cell_type": "code",
   "execution_count": null,
   "metadata": {},
   "outputs": [],
   "source": [
    "!pip install flask==2.0.1 flask-cors==4.0.0 Jinja2==3.1.2 Werkzeug==2.3.7 \\\n",
    "    pytest==6.2.5 python-dotenv==0.19.0 tensorflow numpy scikit-learn \\\n",
    "    flask-socketio==5.3.6 python-engineio==4.11.0 python-socketio==5.12.1 \\\n",
    "    biopython pandas"
   ]
  },
  {
   "cell_type": "markdown",
   "metadata": {},
   "source": [
    "## Verify Installation"
   ]
  },
  {
   "cell_type": "code",
   "execution_count": null,
   "metadata": {},
   "outputs": [],
   "source": [
    "import tensorflow as tf\n",
    "import numpy as np\n",
    "import pandas as pd\n",
    "from Bio import SeqIO\n",
    "from sklearn.model_selection import train_test_split\n",
    "from sklearn.preprocessing import StandardScaler\n",
    "\n",
    "print(f\"TensorFlow version: {tf.__version__}\")\n",
    "print(f\"NumPy version: {np.__version__}\")\n",
    "print(f\"Pandas version: {pd.__version__}\")"
   ]
  },
  {
   "cell_type": "markdown",
   "metadata": {},
   "source": [
    "## Data Loading and Preprocessing"
   ]
  },
  {
   "cell_type": "code",
   "execution_count": null,
   "metadata": {},
   "outputs": [],
   "source": [
    "# Code for loading DNA sequences and AMR data\n",
    "# Feature extraction from sequences\n",
    "# Data preprocessing steps"
   ]
  },
  {
   "cell_type": "markdown",
   "metadata": {},
   "source": [
    "## Model Development"
   ]
  },
  {
   "cell_type": "code",
   "execution_count": null,
   "metadata": {},
   "outputs": [],
   "source": [
    "# Model architecture and training code\n",
    "# Evaluation metrics"
   ]
  },
  {
   "cell_type": "markdown",
   "metadata": {},
   "source": [
    "## Set Up Cloudflared Tunnel\n",
    "\n",
    "Using Cloudflare Tunnel to expose Flask application"
   ]
  },
  {
   "cell_type": "code",
   "execution_count": null,
   "metadata": {},
   "outputs": [],
   "source": [
    "# Install cloudflared\n",
    "!wget -q https://github.com/cloudflare/cloudflared/releases/latest/download/cloudflared-linux-amd64.deb\n",
    "!dpkg -i cloudflared-linux-amd64.deb\n",
    "!rm cloudflared-linux-amd64.deb"
   ]
  },
  {
   "cell_type": "code",
   "execution_count": null,
   "metadata": {},
   "outputs": [],
   "source": [
    "import subprocess\n",
    "from threading import Thread\n",
    "\n",
    "def run_cloudflared(port):\n",
    "    \"\"\"Run cloudflared tunnel\"\"\"\n",
    "    process = subprocess.Popen(\n",
    "        ['cloudflared', 'tunnel', '--url', f'http://localhost:{port}'],\n",
    "        stdout=subprocess.PIPE,\n",
    "        stderr=subprocess.STDOUT,\n",
    "        universal_newlines=True\n",
    "    )\n",
    "    \n",
    "    for line in process.stdout:\n",
    "        if 'trycloudflare.com' in line:\n",
    "            print(f\"Cloudflare URL: {line.strip()}\")\n",
    "        elif '127.0.0.1' not in line:\n",
    "            print(line.strip())"
   ]
  },
  {
   "cell_type": "code",
   "execution_count": null,
   "metadata": {},
   "outputs": [],
   "source": [
    "# Import and run Flask app\n",
    "import sys\n",
    "sys.path.append('./python-app')\n",
    "\n",
    "from app import create_app\n",
    "app = create_app()\n",
    "\n",
    "# Start cloudflared in background\n",
    "tunnel_thread = Thread(target=run_cloudflared, args=(5000,), daemon=True)\n",
    "tunnel_thread.start()\n",
    "\n",
    "# Run Flask app\n",
    "if __name__ == '__main__':\n",
    "    try:\n",
    "        app.run(port=5000)\n",
    "    except KeyboardInterrupt:\n",
    "        print('Shutting down server...')"
   ]
  },
  {
   "cell_type": "markdown",
   "metadata": {},
   "source": [
    "### Alternative: Test Flask Routes Directly"
   ]
  },
  {
   "cell_type": "code",
   "execution_count": null,
   "metadata": {},
   "outputs": [],
   "source": [
    "# Test Flask routes without running server\n",
    "with app.test_client() as client:\n",
    "    response = client.get('/')\n",
    "    print(f\"Status Code: {response.status_code}\")\n",
    "    print(f\"Response: {response.data.decode()}\")"
   ]
  }
 ],
 "metadata": {
  "language_info": {
   "name": "python"
  }
 },
 "nbformat": 4,
 "nbformat_minor": 2
}
